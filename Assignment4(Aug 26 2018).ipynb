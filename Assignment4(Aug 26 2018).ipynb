{
 "cells": [
  {
   "cell_type": "markdown",
   "metadata": {},
   "source": [
    "Task 1 :Calculate moving average"
   ]
  },
  {
   "cell_type": "code",
   "execution_count": 54,
   "metadata": {},
   "outputs": [
    {
     "name": "stdout",
     "output_type": "stream",
     "text": [
      "[5.0, 4.666666666666667, 5.666666666666667, 6.666666666666667, 9.666666666666666, 28.666666666666668, 49.333333333333336, 72.66666666666667, 84.0, 93.33333333333333, 116.33333333333333]\n"
     ]
    }
   ],
   "source": [
    "mylst=[3,5,7,2,8,10,11,65,72,81,99,100,150]\n",
    "k=3\n",
    "n=len(mylst)\n",
    "movavg=[]\n",
    "for i in range(n-k+1):\n",
    "    movavg.append(sum(mylst[i:k+i])/k)\n",
    "print(movavg)"
   ]
  },
  {
   "cell_type": "markdown",
   "metadata": {},
   "source": [
    "TASK2:1 Count to the previus value "
   ]
  },
  {
   "cell_type": "code",
   "execution_count": 55,
   "metadata": {},
   "outputs": [
    {
     "data": {
      "text/html": [
       "<div>\n",
       "<style scoped>\n",
       "    .dataframe tbody tr th:only-of-type {\n",
       "        vertical-align: middle;\n",
       "    }\n",
       "\n",
       "    .dataframe tbody tr th {\n",
       "        vertical-align: top;\n",
       "    }\n",
       "\n",
       "    .dataframe thead th {\n",
       "        text-align: right;\n",
       "    }\n",
       "</style>\n",
       "<table border=\"1\" class=\"dataframe\">\n",
       "  <thead>\n",
       "    <tr style=\"text-align: right;\">\n",
       "      <th></th>\n",
       "      <th>X</th>\n",
       "      <th>Y</th>\n",
       "    </tr>\n",
       "  </thead>\n",
       "  <tbody>\n",
       "    <tr>\n",
       "      <th>0</th>\n",
       "      <td>7</td>\n",
       "      <td>0</td>\n",
       "    </tr>\n",
       "    <tr>\n",
       "      <th>1</th>\n",
       "      <td>2</td>\n",
       "      <td>1</td>\n",
       "    </tr>\n",
       "    <tr>\n",
       "      <th>2</th>\n",
       "      <td>0</td>\n",
       "      <td>0</td>\n",
       "    </tr>\n",
       "    <tr>\n",
       "      <th>3</th>\n",
       "      <td>3</td>\n",
       "      <td>1</td>\n",
       "    </tr>\n",
       "    <tr>\n",
       "      <th>4</th>\n",
       "      <td>4</td>\n",
       "      <td>2</td>\n",
       "    </tr>\n",
       "    <tr>\n",
       "      <th>5</th>\n",
       "      <td>2</td>\n",
       "      <td>3</td>\n",
       "    </tr>\n",
       "    <tr>\n",
       "      <th>6</th>\n",
       "      <td>5</td>\n",
       "      <td>4</td>\n",
       "    </tr>\n",
       "    <tr>\n",
       "      <th>7</th>\n",
       "      <td>0</td>\n",
       "      <td>0</td>\n",
       "    </tr>\n",
       "    <tr>\n",
       "      <th>8</th>\n",
       "      <td>3</td>\n",
       "      <td>1</td>\n",
       "    </tr>\n",
       "    <tr>\n",
       "      <th>9</th>\n",
       "      <td>4</td>\n",
       "      <td>2</td>\n",
       "    </tr>\n",
       "  </tbody>\n",
       "</table>\n",
       "</div>"
      ],
      "text/plain": [
       "   X  Y\n",
       "0  7  0\n",
       "1  2  1\n",
       "2  0  0\n",
       "3  3  1\n",
       "4  4  2\n",
       "5  2  3\n",
       "6  5  4\n",
       "7  0  0\n",
       "8  3  1\n",
       "9  4  2"
      ]
     },
     "execution_count": 55,
     "metadata": {},
     "output_type": "execute_result"
    }
   ],
   "source": [
    "import pandas as pd\n",
    "df=pd.DataFrame({'X':[7,2,0,3,4,2,5,0,3,4]})\n",
    "def counttoprev(df):\n",
    "    y=[]\n",
    "    j=-1\n",
    "    for i in df['X'].tolist():\n",
    "        if i!=0:\n",
    "            j+=1\n",
    "            y.append(j)\n",
    "        else:\n",
    "            j=0\n",
    "            y.append(j)\n",
    "    return y\n",
    "df['Y']=counttoprev(df)\n",
    "df"
   ]
  },
  {
   "cell_type": "markdown",
   "metadata": {},
   "source": [
    "TASK2:2 Datetime series creations and index it with random numbers"
   ]
  },
  {
   "cell_type": "code",
   "execution_count": 56,
   "metadata": {},
   "outputs": [
    {
     "data": {
      "text/plain": [
       "2015-01-01    1.186482\n",
       "2015-01-02    1.847084\n",
       "2015-01-05    0.942263\n",
       "2015-01-06    2.443650\n",
       "2015-01-07   -0.068499\n",
       "2015-01-08    1.087368\n",
       "2015-01-09   -0.416666\n",
       "2015-01-12    0.447940\n",
       "2015-01-13   -0.552009\n",
       "2015-01-14   -1.025981\n",
       "2015-01-15    0.270358\n",
       "2015-01-16    0.490763\n",
       "2015-01-19   -0.002061\n",
       "2015-01-20   -0.117297\n",
       "2015-01-21   -0.629742\n",
       "2015-01-22   -0.422459\n",
       "2015-01-23    0.563888\n",
       "2015-01-26    0.567143\n",
       "2015-01-27   -0.683018\n",
       "2015-01-28   -0.590602\n",
       "2015-01-29   -0.816295\n",
       "2015-01-30    0.160203\n",
       "2015-02-02   -0.542803\n",
       "2015-02-03    0.377853\n",
       "2015-02-04   -0.395419\n",
       "2015-02-05    0.719258\n",
       "2015-02-06    0.741097\n",
       "2015-02-09    1.499218\n",
       "2015-02-10   -0.050591\n",
       "2015-02-11   -1.925437\n",
       "                ...   \n",
       "2015-11-20   -0.656250\n",
       "2015-11-23    0.087283\n",
       "2015-11-24   -1.180755\n",
       "2015-11-25    1.705498\n",
       "2015-11-26   -0.414098\n",
       "2015-11-27   -0.646107\n",
       "2015-11-30    1.179461\n",
       "2015-12-01   -0.402772\n",
       "2015-12-02   -0.549848\n",
       "2015-12-03    0.482103\n",
       "2015-12-04   -0.863653\n",
       "2015-12-07    0.515302\n",
       "2015-12-08   -1.187947\n",
       "2015-12-09    0.453633\n",
       "2015-12-10    1.151967\n",
       "2015-12-11   -0.560920\n",
       "2015-12-14   -0.219134\n",
       "2015-12-15   -0.579651\n",
       "2015-12-16   -1.113559\n",
       "2015-12-17   -0.881146\n",
       "2015-12-18   -0.596299\n",
       "2015-12-21    1.142531\n",
       "2015-12-22   -1.449164\n",
       "2015-12-23   -0.055473\n",
       "2015-12-24   -0.022189\n",
       "2015-12-25   -1.730128\n",
       "2015-12-28   -0.232591\n",
       "2015-12-29    0.476068\n",
       "2015-12-30   -0.867663\n",
       "2015-12-31    0.764223\n",
       "Freq: B, Length: 261, dtype: float64"
      ]
     },
     "execution_count": 56,
     "metadata": {},
     "output_type": "execute_result"
    }
   ],
   "source": [
    "import numpy as np\n",
    "import pandas as pd\n",
    "df=pd.date_range(start='01/01/2015', end='31/12/2015', freq='B')\n",
    "df1=pd.Series(np.random.randn(261),index=df)\n",
    "df1"
   ]
  },
  {
   "cell_type": "markdown",
   "metadata": {},
   "source": [
    "Task2:3 Sum of all values for Wednesday"
   ]
  },
  {
   "cell_type": "code",
   "execution_count": 57,
   "metadata": {},
   "outputs": [
    {
     "data": {
      "text/plain": [
       "-3.975172879701632"
      ]
     },
     "execution_count": 57,
     "metadata": {},
     "output_type": "execute_result"
    }
   ],
   "source": [
    "df1[df.weekday==2].sum()"
   ]
  },
  {
   "cell_type": "markdown",
   "metadata": {},
   "source": [
    "Task2:4 Average for each calendar month"
   ]
  },
  {
   "cell_type": "code",
   "execution_count": 58,
   "metadata": {},
   "outputs": [
    {
     "data": {
      "text/plain": [
       "2015-01-31    0.212842\n",
       "2015-02-28   -0.084937\n",
       "2015-03-31    0.181800\n",
       "2015-04-30    0.032415\n",
       "2015-05-31    0.342523\n",
       "2015-06-30    0.190719\n",
       "2015-07-31   -0.237747\n",
       "2015-08-31   -0.068124\n",
       "2015-09-30    0.352630\n",
       "2015-10-31    0.348180\n",
       "2015-11-30   -0.178323\n",
       "2015-12-31   -0.275057\n",
       "Freq: M, dtype: float64"
      ]
     },
     "execution_count": 58,
     "metadata": {},
     "output_type": "execute_result"
    }
   ],
   "source": [
    "df1.resample('M').mean()"
   ]
  },
  {
   "cell_type": "markdown",
   "metadata": {},
   "source": [
    "Task2:5 Highest value for a group of 4 consequitive months"
   ]
  },
  {
   "cell_type": "code",
   "execution_count": 59,
   "metadata": {},
   "outputs": [
    {
     "data": {
      "text/plain": [
       "2015-01-31    2.443650\n",
       "2015-05-31    2.589161\n",
       "2015-09-30    1.887427\n",
       "2016-01-31    2.220581\n",
       "dtype: float64"
      ]
     },
     "execution_count": 59,
     "metadata": {},
     "output_type": "execute_result"
    }
   ],
   "source": [
    "df1.groupby(pd.Grouper(freq='4M')).max()"
   ]
  },
  {
   "cell_type": "code",
   "execution_count": null,
   "metadata": {},
   "outputs": [],
   "source": []
  }
 ],
 "metadata": {
  "kernelspec": {
   "display_name": "Python 3",
   "language": "python",
   "name": "python3"
  },
  "language_info": {
   "codemirror_mode": {
    "name": "ipython",
    "version": 3
   },
   "file_extension": ".py",
   "mimetype": "text/x-python",
   "name": "python",
   "nbconvert_exporter": "python",
   "pygments_lexer": "ipython3",
   "version": "3.6.4"
  }
 },
 "nbformat": 4,
 "nbformat_minor": 2
}
